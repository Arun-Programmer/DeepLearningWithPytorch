{
 "cells": [
  {
   "cell_type": "code",
   "execution_count": 1,
   "metadata": {},
   "outputs": [],
   "source": [
    "from torch import nn\n",
    "import os\n",
    "from torchvision import datasets, transforms\n",
    "from torch.utils.data import DataLoader"
   ]
  },
  {
   "cell_type": "code",
   "execution_count": null,
   "metadata": {},
   "outputs": [],
   "source": [
    "dataSetDir = \"../Brain_tumor_MRI_classification_CNN/Brain Tumor MRI\"\n",
    "print(os.listdir(dataSetDir))"
   ]
  },
  {
   "cell_type": "code",
   "execution_count": null,
   "metadata": {},
   "outputs": [],
   "source": [
    "# Define the transformations\n",
    "transform = transforms.Compose([\n",
    "    transforms.Resize((150, 150)),\n",
    "    transforms.ToTensor(),\n",
    "])\n",
    "\n",
    "# Load the dataset\n",
    "train_dataset = datasets.ImageFolder(root=dataSetDir + '/Training', transform=transform)\n",
    "\n",
    "# Create a DataLoader\n",
    "train_loader = DataLoader(train_dataset, batch_size=10, shuffle=True, num_workers=2)\n",
    "\n",
    "# Function to compute mean and std\n",
    "def get_mean_std(loader):\n",
    "    mean = 0.\n",
    "    std = 0.\n",
    "    total_images_count = 0\n",
    "    for images, _ in loader:\n",
    "        batch_size = images.size(0)  # Get the current batch size\n",
    "        images = images.view(batch_size, images.size(1), -1)  # Reshape for easier computation\n",
    "        mean += images.mean(2).sum(0)  # Sum the mean across the batch\n",
    "        std += images.std(2).sum(0)    # Sum the std across the batch\n",
    "        total_images_count += batch_size  # Count total images processed\n",
    "\n",
    "    mean /= total_images_count  # Average the mean\n",
    "    std /= total_images_count    # Average the std\n",
    "    return mean, std\n",
    "\n",
    "# Calculate and print mean and std\n",
    "mean, std = get_mean_std(train_loader)\n",
    "print(f\"Mean: {mean}\")\n",
    "print(f\"Std: {std}\")\n"
   ]
  },
  {
   "cell_type": "code",
   "execution_count": 4,
   "metadata": {},
   "outputs": [],
   "source": [
    "trainTransform = transforms.Compose([\n",
    "    transforms.Resize((150,150)),\n",
    "    transforms.RandomResizedCrop(150),\n",
    "    transforms.RandomHorizontalFlip(),\n",
    "    transforms.ColorJitter(brightness=0.2, contrast=0.2, saturation=0.2, hue=0.1),\n",
    "    transforms.ToTensor(),\n",
    "    transforms.Normalize(mean=mean, std=std)\n",
    "])\n",
    "\n",
    "testTransform = transforms.Compose([\n",
    "    transforms.Resize((150,150)),\n",
    "    transforms.ToTensor(),\n",
    "    transforms.Normalize(mean=mean, std=std)\n",
    "])"
   ]
  },
  {
   "cell_type": "code",
   "execution_count": null,
   "metadata": {},
   "outputs": [],
   "source": [
    "MRI = {}\n",
    "MRI['train'] = datasets.ImageFolder(root=dataSetDir + '/Training', transform=trainTransform)\n",
    "MRI['test'] = datasets.ImageFolder(root=dataSetDir + '/Testing', transform = testTransform)\n",
    "MRI"
   ]
  },
  {
   "cell_type": "code",
   "execution_count": 6,
   "metadata": {},
   "outputs": [],
   "source": [
    "trainLoader = DataLoader(dataset=MRI['train'], batch_size=32, shuffle=True, num_workers=2)\n",
    "testLoader = DataLoader(dataset=MRI['test'], batch_size=32, shuffle=True, num_workers=2)\n"
   ]
  },
  {
   "cell_type": "code",
   "execution_count": null,
   "metadata": {},
   "outputs": [],
   "source": [
    "classes = MRI['train'].classes\n",
    "classes"
   ]
  },
  {
   "cell_type": "code",
   "execution_count": null,
   "metadata": {},
   "outputs": [],
   "source": [
    "class_index = MRI['test'].class_to_idx\n",
    "class_index"
   ]
  },
  {
   "cell_type": "code",
   "execution_count": null,
   "metadata": {},
   "outputs": [],
   "source": [
    "image, label = next(iter(trainLoader))\n",
    "image.shape"
   ]
  },
  {
   "cell_type": "code",
   "execution_count": null,
   "metadata": {},
   "outputs": [],
   "source": [
    "import random\n",
    "import matplotlib.pyplot as plt\n",
    "from PIL import Image\n",
    "# Plotting random images of each file(class)\n",
    "\n",
    "for brain_tumor_class in classes : # Loop through each class\n",
    "    \n",
    "    # Accessing images in files \n",
    "    class_dir = os.path.join(dataSetDir + '/Training' , brain_tumor_class) # The image path of the rice class\n",
    "    images_path = os.listdir(class_dir) # List of images\n",
    "    random_images = random.sample(images_path , k = 5) # Random sample of images\n",
    "    \n",
    "    # Plotting some sample images\n",
    "    fig , ax = plt.subplots(1 , 5 , figsize = (12 , 3)) \n",
    "    plt.suptitle(f'Sample from \"{brain_tumor_class}\" brain tumor class', fontsize = 14 \n",
    "                 , bbox=dict(facecolor='#4A5759', alpha=0.7 , boxstyle='round,pad=0.3') , y = 0.9) # Title for each sample\n",
    "    \n",
    "    for i , random_image in enumerate(random_images) : # Loop for each image\n",
    "        image_path = os.path.join(class_dir , random_image) # Creating image path\n",
    "        image = Image.open(image_path) # Load image\n",
    "        \n",
    "        ax[i].imshow(image) # Plot image\n",
    "        ax[i].axis('off') # Remove the axis\n",
    "    \n",
    "    plt.subplots_adjust( hspace = -0.2 , wspace = 0.1 )\n",
    "    plt.show()\n",
    "    print('\\n')"
   ]
  },
  {
   "cell_type": "code",
   "execution_count": null,
   "metadata": {},
   "outputs": [],
   "source": [
    "import torch\n",
    "device = \"cuda\" if torch.cuda.is_available() else \"cpu\"\n",
    "device"
   ]
  },
  {
   "cell_type": "code",
   "execution_count": null,
   "metadata": {},
   "outputs": [],
   "source": [
    "class brainTumorClassifier(nn.Module):\n",
    "    def __init__(self):\n",
    "        super().__init__()\n",
    "        \n",
    "        self.convolutionLayer = nn.Sequential(\n",
    "            nn.Conv2d(in_channels=3, out_channels=16, kernel_size=(3,3), stride=1),\n",
    "            nn.BatchNorm2d(num_features=16),\n",
    "            nn.ReLU(),\n",
    "            \n",
    "            nn.Conv2d(in_channels=16, out_channels=32, kernel_size=(3,3), stride=1),\n",
    "            nn.BatchNorm2d(num_features=32),\n",
    "            nn.ReLU(),\n",
    "            nn.MaxPool2d(kernel_size=(2,2), stride=2),\n",
    "            \n",
    "            nn.Conv2d(in_channels=32,out_channels=64, kernel_size=(3,3), stride=1),\n",
    "            nn.BatchNorm2d(num_features=64),\n",
    "            nn.ReLU()           \n",
    "            \n",
    "        )\n",
    "        \n",
    "        self.fullyConnectedLayer = nn.Sequential(\n",
    "            nn.Linear(in_features=71*71*64, out_features=512),\n",
    "            nn.ReLU(),\n",
    "            nn.Dropout(0.5),\n",
    "            nn.Linear(512, 4),\n",
    "            nn.LogSoftmax(dim=1)\n",
    "        )\n",
    "    def forward(self, x):\n",
    "        convolutionOut = self.convolutionLayer(x)\n",
    "        flatenedConOut = torch.flatten(convolutionOut,1)\n",
    "        return self.fullyConnectedLayer(flatenedConOut)\n",
    "    \n",
    "model = brainTumorClassifier()\n",
    "model.to(device=device)\n"
   ]
  },
  {
   "cell_type": "code",
   "execution_count": null,
   "metadata": {},
   "outputs": [],
   "source": [
    "from torchsummary import summary\n",
    "summary(model, (3, 150, 150))\n"
   ]
  },
  {
   "cell_type": "code",
   "execution_count": 14,
   "metadata": {},
   "outputs": [],
   "source": [
    "criterion = nn.NLLLoss()\n",
    "optimizer = torch.optim.Adam(model.parameters(), lr=0.001)"
   ]
  },
  {
   "cell_type": "code",
   "execution_count": null,
   "metadata": {},
   "outputs": [],
   "source": [
    "# number of epochs to train the model\n",
    "n_epochs = 10\n",
    "\n",
    "\n",
    "for epoch in range(n_epochs):\n",
    "    # monitor training loss\n",
    "    train_loss = 0.0\n",
    "    train_accuracy = 0\n",
    "    \n",
    "    ###################\n",
    "    # train the model #\n",
    "    ###################\n",
    "    model.train() # prep model for training\n",
    "    for data, target in train_loader:\n",
    "        if torch.cuda.is_available():\n",
    "            data, target = data.cuda(), target.cuda()\n",
    "        # clear the gradients of all optimized variables\n",
    "        optimizer.zero_grad()\n",
    "        # forward pass: compute predicted outputs by passing inputs to the model\n",
    "        output = model(data)\n",
    "        # calculate the loss\n",
    "        loss = criterion(output, target)\n",
    "        # backward pass: compute gradient of the loss with respect to model parameters\n",
    "        loss.backward()\n",
    "        # perform a single optimization step (parameter update)\n",
    "        optimizer.step()\n",
    "        # update running training loss\n",
    "        train_loss += loss.item()*data.size(0)\n",
    "        #calculate accuracy\n",
    "        ps = torch.exp(output)\n",
    "        top_p, top_class = ps.topk(1, dim=1)\n",
    "        equals = top_class == target.view(*top_class.shape)\n",
    "        train_accuracy += torch.mean(equals.type(torch.FloatTensor)).item()\n",
    "    \n",
    "# calculate average loss over an epoch\n",
    "    train_loss = train_loss/len(train_loader.dataset)\n",
    "\n",
    "    print('Epoch: {} \\tTraining Loss: {:.6f}'.format(\n",
    "            epoch+1, \n",
    "            train_loss\n",
    "            ))\n",
    "    print(f\"Train accuracy: {train_accuracy/len(train_loader):.3f}\")"
   ]
  },
  {
   "cell_type": "code",
   "execution_count": null,
   "metadata": {},
   "outputs": [],
   "source": [
    "# Checking Test Performence\n",
    "test_accuracy = 0\n",
    "model.eval() # prep model for evaluation\n",
    "for data, target in testLoader:\n",
    "    if torch.cuda.is_available():\n",
    "        data, target = data.cuda(), target.cuda()\n",
    "    # forward pass: compute predicted outputs by passing inputs to the model\n",
    "    output = model(data)\n",
    "    # calculate the loss\n",
    "    loss = criterion(output, target)\n",
    "    #calculate accuracy\n",
    "    ps = torch.exp(output)\n",
    "    top_p, top_class = ps.topk(1, dim=1)\n",
    "    equals = top_class == target.view(*top_class.shape)\n",
    "    test_accuracy += torch.mean(equals.type(torch.FloatTensor)).item()\n",
    "\n",
    "print(f\"Test accuracy: {test_accuracy/len(testLoader):.3f}\")\n"
   ]
  }
 ],
 "metadata": {
  "kernelspec": {
   "display_name": "Python 3",
   "language": "python",
   "name": "python3"
  },
  "language_info": {
   "codemirror_mode": {
    "name": "ipython",
    "version": 3
   },
   "file_extension": ".py",
   "mimetype": "text/x-python",
   "name": "python",
   "nbconvert_exporter": "python",
   "pygments_lexer": "ipython3",
   "version": "3.10.4"
  }
 },
 "nbformat": 4,
 "nbformat_minor": 2
}
